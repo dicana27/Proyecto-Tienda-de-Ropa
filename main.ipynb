{
 "cells": [
  {
   "attachments": {},
   "cell_type": "markdown",
   "metadata": {},
   "source": [
    "# Proyecto de analisis de ventas en una tienda de ropa\n",
    "Recopilación y limpieza de datos: Se reunirían los datos de ventas históricas, incluyendo información sobre fechas, productos, precios, etc. Estos datos se limpiarían para eliminar cualquier información faltante o incorrecta.\n",
    "\n",
    "Análisis exploratorio de datos: Se analizarían los datos recolectados para identificar patrones y tendencias en las ventas. Se podrían crear gráficos y tablas para visualizar esta información.\n",
    "\n",
    "Selección de características: Se seleccionarían las características relevantes para el modelo de machine learning, como la fecha, el precio del producto, la promoción, etc.\n",
    "\n",
    "Entrenamiento del modelo: Se utilizaría un algoritmo de aprendizaje automático para entrenar el modelo con los datos de ventas históricos y las características seleccionadas.\n",
    "\n",
    "Evaluación del modelo: Se evaluaría el rendimiento del modelo utilizando técnicas como la validación cruzada y la prueba de conjunto de prueba para medir la precisión de las predicciones.\n",
    "\n",
    "Implementación y monitoreo: Finalmente, se implementaría el modelo en un entorno de producción y se monitorearía su rendimiento continuamente para detectar y corregir cualquier problema."
   ]
  },
  {
   "attachments": {},
   "cell_type": "markdown",
   "metadata": {},
   "source": [
    "## Carga de Datos"
   ]
  },
  {
   "cell_type": "code",
   "execution_count": 4,
   "metadata": {},
   "outputs": [
    {
     "data": {
      "text/html": [
       "<div>\n",
       "<style scoped>\n",
       "    .dataframe tbody tr th:only-of-type {\n",
       "        vertical-align: middle;\n",
       "    }\n",
       "\n",
       "    .dataframe tbody tr th {\n",
       "        vertical-align: top;\n",
       "    }\n",
       "\n",
       "    .dataframe thead th {\n",
       "        text-align: right;\n",
       "    }\n",
       "</style>\n",
       "<table border=\"1\" class=\"dataframe\">\n",
       "  <thead>\n",
       "    <tr style=\"text-align: right;\">\n",
       "      <th></th>\n",
       "      <th>fecha_venta</th>\n",
       "      <th>hora_venta</th>\n",
       "      <th>Producto</th>\n",
       "      <th>Valor_sugerido</th>\n",
       "      <th>venta_final</th>\n",
       "      <th>venta_inventario</th>\n",
       "      <th>valor_compra</th>\n",
       "      <th>contribucion</th>\n",
       "      <th>Comprador</th>\n",
       "      <th>fecha_ingreso_inventario</th>\n",
       "      <th>NOMBRE</th>\n",
       "      <th>sexo_producto</th>\n",
       "      <th>color_prenda</th>\n",
       "      <th>talla_prenda</th>\n",
       "      <th>proveedor</th>\n",
       "      <th>OBSERVACIONES</th>\n",
       "    </tr>\n",
       "  </thead>\n",
       "  <tbody>\n",
       "    <tr>\n",
       "      <th>0</th>\n",
       "      <td>2022-05-31</td>\n",
       "      <td>1330.0</td>\n",
       "      <td>Gaban Negro Totas</td>\n",
       "      <td>89000.0</td>\n",
       "      <td>82000</td>\n",
       "      <td>NaN</td>\n",
       "      <td>NaN</td>\n",
       "      <td>NaN</td>\n",
       "      <td>Mujer</td>\n",
       "      <td>NaN</td>\n",
       "      <td>NaN</td>\n",
       "      <td>NaN</td>\n",
       "      <td>NaN</td>\n",
       "      <td>NaN</td>\n",
       "      <td>NaN</td>\n",
       "      <td>NaN</td>\n",
       "    </tr>\n",
       "    <tr>\n",
       "      <th>1</th>\n",
       "      <td>2022-05-31</td>\n",
       "      <td>1330.0</td>\n",
       "      <td>Blusa rosa Tulcan</td>\n",
       "      <td>66000.0</td>\n",
       "      <td>58000</td>\n",
       "      <td>NaN</td>\n",
       "      <td>NaN</td>\n",
       "      <td>NaN</td>\n",
       "      <td>Mujer</td>\n",
       "      <td>NaN</td>\n",
       "      <td>NaN</td>\n",
       "      <td>NaN</td>\n",
       "      <td>NaN</td>\n",
       "      <td>NaN</td>\n",
       "      <td>NaN</td>\n",
       "      <td>NaN</td>\n",
       "    </tr>\n",
       "    <tr>\n",
       "      <th>2</th>\n",
       "      <td>2022-06-01</td>\n",
       "      <td>1600.0</td>\n",
       "      <td>Blusa tejida caracol</td>\n",
       "      <td>59000.0</td>\n",
       "      <td>50000</td>\n",
       "      <td>NaN</td>\n",
       "      <td>NaN</td>\n",
       "      <td>NaN</td>\n",
       "      <td>Mujer</td>\n",
       "      <td>NaN</td>\n",
       "      <td>NaN</td>\n",
       "      <td>NaN</td>\n",
       "      <td>NaN</td>\n",
       "      <td>NaN</td>\n",
       "      <td>NaN</td>\n",
       "      <td>NaN</td>\n",
       "    </tr>\n",
       "    <tr>\n",
       "      <th>3</th>\n",
       "      <td>2022-06-02</td>\n",
       "      <td>1000.0</td>\n",
       "      <td>Gaban Murcielago</td>\n",
       "      <td>72000.0</td>\n",
       "      <td>60000</td>\n",
       "      <td>NaN</td>\n",
       "      <td>NaN</td>\n",
       "      <td>NaN</td>\n",
       "      <td>Mujer</td>\n",
       "      <td>NaN</td>\n",
       "      <td>NaN</td>\n",
       "      <td>NaN</td>\n",
       "      <td>NaN</td>\n",
       "      <td>NaN</td>\n",
       "      <td>NaN</td>\n",
       "      <td>NaN</td>\n",
       "    </tr>\n",
       "    <tr>\n",
       "      <th>4</th>\n",
       "      <td>2022-06-06</td>\n",
       "      <td>1400.0</td>\n",
       "      <td>Chaqueta Totas</td>\n",
       "      <td>93000.0</td>\n",
       "      <td>72500</td>\n",
       "      <td>NaN</td>\n",
       "      <td>NaN</td>\n",
       "      <td>NaN</td>\n",
       "      <td>Hombre</td>\n",
       "      <td>NaN</td>\n",
       "      <td>NaN</td>\n",
       "      <td>NaN</td>\n",
       "      <td>NaN</td>\n",
       "      <td>NaN</td>\n",
       "      <td>NaN</td>\n",
       "      <td>NaN</td>\n",
       "    </tr>\n",
       "  </tbody>\n",
       "</table>\n",
       "</div>"
      ],
      "text/plain": [
       "  fecha_venta  hora_venta              Producto  Valor_sugerido  venta_final  \\\n",
       "0  2022-05-31      1330.0     Gaban Negro Totas         89000.0        82000   \n",
       "1  2022-05-31      1330.0     Blusa rosa Tulcan         66000.0        58000   \n",
       "2  2022-06-01      1600.0  Blusa tejida caracol         59000.0        50000   \n",
       "3  2022-06-02      1000.0      Gaban Murcielago         72000.0        60000   \n",
       "4  2022-06-06      1400.0        Chaqueta Totas         93000.0        72500   \n",
       "\n",
       "   venta_inventario  valor_compra  contribucion Comprador  \\\n",
       "0               NaN           NaN           NaN     Mujer   \n",
       "1               NaN           NaN           NaN     Mujer   \n",
       "2               NaN           NaN           NaN     Mujer   \n",
       "3               NaN           NaN           NaN     Mujer   \n",
       "4               NaN           NaN           NaN    Hombre   \n",
       "\n",
       "  fecha_ingreso_inventario NOMBRE sexo_producto color_prenda talla_prenda  \\\n",
       "0                      NaN    NaN           NaN          NaN          NaN   \n",
       "1                      NaN    NaN           NaN          NaN          NaN   \n",
       "2                      NaN    NaN           NaN          NaN          NaN   \n",
       "3                      NaN    NaN           NaN          NaN          NaN   \n",
       "4                      NaN    NaN           NaN          NaN          NaN   \n",
       "\n",
       "  proveedor OBSERVACIONES  \n",
       "0       NaN           NaN  \n",
       "1       NaN           NaN  \n",
       "2       NaN           NaN  \n",
       "3       NaN           NaN  \n",
       "4       NaN           NaN  "
      ]
     },
     "execution_count": 4,
     "metadata": {},
     "output_type": "execute_result"
    }
   ],
   "source": [
    "import pandas as pd\n",
    "\n",
    "# Cargar el archivo csv en un DataFrame\n",
    "data = pd.read_csv('Datos/VentasTiendaA.csv')\n",
    "\n",
    "# Imprimir las primeras filas del DataFrame\n",
    "data.head()\n"
   ]
  },
  {
   "attachments": {},
   "cell_type": "markdown",
   "metadata": {},
   "source": [
    "## Consultas"
   ]
  },
  {
   "attachments": {},
   "cell_type": "markdown",
   "metadata": {},
   "source": [
    "¿Cuantas filas tiene dataset?"
   ]
  },
  {
   "cell_type": "code",
   "execution_count": 5,
   "metadata": {},
   "outputs": [
    {
     "name": "stdout",
     "output_type": "stream",
     "text": [
      "396\n"
     ]
    }
   ],
   "source": [
    "num_rows = data.shape[0]\n",
    "print(num_rows)"
   ]
  },
  {
   "attachments": {},
   "cell_type": "markdown",
   "metadata": {},
   "source": [
    "¿Cuantos atributos tiene el dataset?"
   ]
  },
  {
   "cell_type": "code",
   "execution_count": 6,
   "metadata": {},
   "outputs": [
    {
     "name": "stdout",
     "output_type": "stream",
     "text": [
      "16\n"
     ]
    }
   ],
   "source": [
    "num_columns = data.shape[1]\n",
    "print(num_columns)"
   ]
  },
  {
   "attachments": {},
   "cell_type": "markdown",
   "metadata": {},
   "source": [
    "¿Cuales son los nombres de los 16 atributos?"
   ]
  },
  {
   "cell_type": "code",
   "execution_count": 7,
   "metadata": {},
   "outputs": [
    {
     "name": "stdout",
     "output_type": "stream",
     "text": [
      "['fecha_venta', 'hora_venta', 'Producto', 'Valor_sugerido', 'venta_final', 'venta_inventario', 'valor_compra', 'contribucion', 'Comprador', 'fecha_ingreso_inventario', 'NOMBRE', 'sexo_producto', 'color_prenda', 'talla_prenda', 'proveedor', 'OBSERVACIONES']\n"
     ]
    }
   ],
   "source": [
    "col_names = data.columns.tolist()\n",
    "print(col_names)\n"
   ]
  },
  {
   "cell_type": "code",
   "execution_count": null,
   "metadata": {},
   "outputs": [],
   "source": []
  }
 ],
 "metadata": {
  "kernelspec": {
   "display_name": "Diana",
   "language": "python",
   "name": "python3"
  },
  "language_info": {
   "codemirror_mode": {
    "name": "ipython",
    "version": 3
   },
   "file_extension": ".py",
   "mimetype": "text/x-python",
   "name": "python",
   "nbconvert_exporter": "python",
   "pygments_lexer": "ipython3",
   "version": "3.9.13"
  },
  "orig_nbformat": 4,
  "vscode": {
   "interpreter": {
    "hash": "836e5bd6a00544c0b00700b3ae05a36f68c5264f14948486da968e464bc4f9d3"
   }
  }
 },
 "nbformat": 4,
 "nbformat_minor": 2
}
