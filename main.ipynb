{
 "cells": [
  {
   "attachments": {},
   "cell_type": "markdown",
   "metadata": {},
   "source": [
    "# Proyecto de analisis de ventas en una tienda de ropa\n",
    "Recopilación y limpieza de datos: Se reunirían los datos de ventas históricas, incluyendo información sobre fechas, productos, precios, etc. Estos datos se limpiarían para eliminar cualquier información faltante o incorrecta.\n",
    "\n",
    "Análisis exploratorio de datos: Se analizarían los datos recolectados para identificar patrones y tendencias en las ventas. Se podrían crear gráficos y tablas para visualizar esta información.\n",
    "\n",
    "Selección de características: Se seleccionarían las características relevantes para el modelo de machine learning, como la fecha, el precio del producto, la promoción, etc.\n",
    "\n",
    "Entrenamiento del modelo: Se utilizaría un algoritmo de aprendizaje automático para entrenar el modelo con los datos de ventas históricos y las características seleccionadas.\n",
    "\n",
    "Evaluación del modelo: Se evaluaría el rendimiento del modelo utilizando técnicas como la validación cruzada y la prueba de conjunto de prueba para medir la precisión de las predicciones.\n",
    "\n",
    "Implementación y monitoreo: Finalmente, se implementaría el modelo en un entorno de producción y se monitorearía su rendimiento continuamente para detectar y corregir cualquier problema."
   ]
  },
  {
   "attachments": {},
   "cell_type": "markdown",
   "metadata": {},
   "source": [
    "## Carga de Datos"
   ]
  },
  {
   "cell_type": "code",
   "execution_count": 4,
   "metadata": {},
   "outputs": [
    {
     "data": {
      "text/html": [
       "<div>\n",
       "<style scoped>\n",
       "    .dataframe tbody tr th:only-of-type {\n",
       "        vertical-align: middle;\n",
       "    }\n",
       "\n",
       "    .dataframe tbody tr th {\n",
       "        vertical-align: top;\n",
       "    }\n",
       "\n",
       "    .dataframe thead th {\n",
       "        text-align: right;\n",
       "    }\n",
       "</style>\n",
       "<table border=\"1\" class=\"dataframe\">\n",
       "  <thead>\n",
       "    <tr style=\"text-align: right;\">\n",
       "      <th></th>\n",
       "      <th>fecha_venta</th>\n",
       "      <th>hora_venta</th>\n",
       "      <th>Producto</th>\n",
       "      <th>Valor_sugerido</th>\n",
       "      <th>venta_final</th>\n",
       "      <th>venta_inventario</th>\n",
       "      <th>valor_compra</th>\n",
       "      <th>contribucion</th>\n",
       "      <th>Comprador</th>\n",
       "      <th>fecha_ingreso_inventario</th>\n",
       "      <th>NOMBRE</th>\n",
       "      <th>sexo_producto</th>\n",
       "      <th>color_prenda</th>\n",
       "      <th>talla_prenda</th>\n",
       "      <th>proveedor</th>\n",
       "      <th>OBSERVACIONES</th>\n",
       "    </tr>\n",
       "  </thead>\n",
       "  <tbody>\n",
       "    <tr>\n",
       "      <th>0</th>\n",
       "      <td>2022-05-31</td>\n",
       "      <td>1330.0</td>\n",
       "      <td>Gaban Negro Totas</td>\n",
       "      <td>89000.0</td>\n",
       "      <td>82000</td>\n",
       "      <td>NaN</td>\n",
       "      <td>NaN</td>\n",
       "      <td>NaN</td>\n",
       "      <td>Mujer</td>\n",
       "      <td>NaN</td>\n",
       "      <td>NaN</td>\n",
       "      <td>NaN</td>\n",
       "      <td>NaN</td>\n",
       "      <td>NaN</td>\n",
       "      <td>NaN</td>\n",
       "      <td>NaN</td>\n",
       "    </tr>\n",
       "    <tr>\n",
       "      <th>1</th>\n",
       "      <td>2022-05-31</td>\n",
       "      <td>1330.0</td>\n",
       "      <td>Blusa rosa Tulcan</td>\n",
       "      <td>66000.0</td>\n",
       "      <td>58000</td>\n",
       "      <td>NaN</td>\n",
       "      <td>NaN</td>\n",
       "      <td>NaN</td>\n",
       "      <td>Mujer</td>\n",
       "      <td>NaN</td>\n",
       "      <td>NaN</td>\n",
       "      <td>NaN</td>\n",
       "      <td>NaN</td>\n",
       "      <td>NaN</td>\n",
       "      <td>NaN</td>\n",
       "      <td>NaN</td>\n",
       "    </tr>\n",
       "    <tr>\n",
       "      <th>2</th>\n",
       "      <td>2022-06-01</td>\n",
       "      <td>1600.0</td>\n",
       "      <td>Blusa tejida caracol</td>\n",
       "      <td>59000.0</td>\n",
       "      <td>50000</td>\n",
       "      <td>NaN</td>\n",
       "      <td>NaN</td>\n",
       "      <td>NaN</td>\n",
       "      <td>Mujer</td>\n",
       "      <td>NaN</td>\n",
       "      <td>NaN</td>\n",
       "      <td>NaN</td>\n",
       "      <td>NaN</td>\n",
       "      <td>NaN</td>\n",
       "      <td>NaN</td>\n",
       "      <td>NaN</td>\n",
       "    </tr>\n",
       "    <tr>\n",
       "      <th>3</th>\n",
       "      <td>2022-06-02</td>\n",
       "      <td>1000.0</td>\n",
       "      <td>Gaban Murcielago</td>\n",
       "      <td>72000.0</td>\n",
       "      <td>60000</td>\n",
       "      <td>NaN</td>\n",
       "      <td>NaN</td>\n",
       "      <td>NaN</td>\n",
       "      <td>Mujer</td>\n",
       "      <td>NaN</td>\n",
       "      <td>NaN</td>\n",
       "      <td>NaN</td>\n",
       "      <td>NaN</td>\n",
       "      <td>NaN</td>\n",
       "      <td>NaN</td>\n",
       "      <td>NaN</td>\n",
       "    </tr>\n",
       "    <tr>\n",
       "      <th>4</th>\n",
       "      <td>2022-06-06</td>\n",
       "      <td>1400.0</td>\n",
       "      <td>Chaqueta Totas</td>\n",
       "      <td>93000.0</td>\n",
       "      <td>72500</td>\n",
       "      <td>NaN</td>\n",
       "      <td>NaN</td>\n",
       "      <td>NaN</td>\n",
       "      <td>Hombre</td>\n",
       "      <td>NaN</td>\n",
       "      <td>NaN</td>\n",
       "      <td>NaN</td>\n",
       "      <td>NaN</td>\n",
       "      <td>NaN</td>\n",
       "      <td>NaN</td>\n",
       "      <td>NaN</td>\n",
       "    </tr>\n",
       "  </tbody>\n",
       "</table>\n",
       "</div>"
      ],
      "text/plain": [
       "  fecha_venta  hora_venta              Producto  Valor_sugerido  venta_final  \\\n",
       "0  2022-05-31      1330.0     Gaban Negro Totas         89000.0        82000   \n",
       "1  2022-05-31      1330.0     Blusa rosa Tulcan         66000.0        58000   \n",
       "2  2022-06-01      1600.0  Blusa tejida caracol         59000.0        50000   \n",
       "3  2022-06-02      1000.0      Gaban Murcielago         72000.0        60000   \n",
       "4  2022-06-06      1400.0        Chaqueta Totas         93000.0        72500   \n",
       "\n",
       "   venta_inventario  valor_compra  contribucion Comprador  \\\n",
       "0               NaN           NaN           NaN     Mujer   \n",
       "1               NaN           NaN           NaN     Mujer   \n",
       "2               NaN           NaN           NaN     Mujer   \n",
       "3               NaN           NaN           NaN     Mujer   \n",
       "4               NaN           NaN           NaN    Hombre   \n",
       "\n",
       "  fecha_ingreso_inventario NOMBRE sexo_producto color_prenda talla_prenda  \\\n",
       "0                      NaN    NaN           NaN          NaN          NaN   \n",
       "1                      NaN    NaN           NaN          NaN          NaN   \n",
       "2                      NaN    NaN           NaN          NaN          NaN   \n",
       "3                      NaN    NaN           NaN          NaN          NaN   \n",
       "4                      NaN    NaN           NaN          NaN          NaN   \n",
       "\n",
       "  proveedor OBSERVACIONES  \n",
       "0       NaN           NaN  \n",
       "1       NaN           NaN  \n",
       "2       NaN           NaN  \n",
       "3       NaN           NaN  \n",
       "4       NaN           NaN  "
      ]
     },
     "execution_count": 4,
     "metadata": {},
     "output_type": "execute_result"
    }
   ],
   "source": [
    "import pandas as pd\n",
    "\n",
    "# Cargar el archivo csv en un DataFrame\n",
    "data = pd.read_csv('Datos/VentasTiendaA.csv')\n",
    "\n",
    "# Imprimir las primeras filas del DataFrame\n",
    "data.head()\n"
   ]
  },
  {
   "attachments": {},
   "cell_type": "markdown",
   "metadata": {},
   "source": [
    "## Consultas Exploratorias"
   ]
  },
  {
   "attachments": {},
   "cell_type": "markdown",
   "metadata": {},
   "source": [
    "El atributo shape de un DataFrame de Pandas para obtener la cantidad de filas y columnas. El primer elemento de la tupla devuelta es el número de filas y el segundo elemento es el número de columnas. Por ejemplo, si tienes un DataFrame llamado df, el siguiente código te dará el número de filas:"
   ]
  },
  {
   "attachments": {},
   "cell_type": "markdown",
   "metadata": {},
   "source": [
    "¿Cuantas filas tiene dataset?"
   ]
  },
  {
   "cell_type": "code",
   "execution_count": 5,
   "metadata": {},
   "outputs": [
    {
     "name": "stdout",
     "output_type": "stream",
     "text": [
      "396\n"
     ]
    }
   ],
   "source": [
    "num_rows = data.shape[0]\n",
    "print(num_rows)"
   ]
  },
  {
   "attachments": {},
   "cell_type": "markdown",
   "metadata": {},
   "source": [
    "¿Cuantos atributos tiene el dataset?"
   ]
  },
  {
   "cell_type": "code",
   "execution_count": 6,
   "metadata": {},
   "outputs": [
    {
     "name": "stdout",
     "output_type": "stream",
     "text": [
      "16\n"
     ]
    }
   ],
   "source": [
    "num_columns = data.shape[1]\n",
    "print(num_columns)"
   ]
  },
  {
   "attachments": {},
   "cell_type": "markdown",
   "metadata": {},
   "source": [
    "¿Cuales son los nombres de los 16 atributos?\n",
    "\n",
    "Puedes utilizar el atributo columns de un DataFrame de Pandas para obtener una lista con los nombres de las columnas. Por ejemplo, si tienes un DataFrame llamado df, el siguiente código te dará una lista con los nombres de las columnas:"
   ]
  },
  {
   "cell_type": "code",
   "execution_count": 7,
   "metadata": {},
   "outputs": [
    {
     "name": "stdout",
     "output_type": "stream",
     "text": [
      "['fecha_venta', 'hora_venta', 'Producto', 'Valor_sugerido', 'venta_final', 'venta_inventario', 'valor_compra', 'contribucion', 'Comprador', 'fecha_ingreso_inventario', 'NOMBRE', 'sexo_producto', 'color_prenda', 'talla_prenda', 'proveedor', 'OBSERVACIONES']\n"
     ]
    }
   ],
   "source": [
    "col_names = data.columns.tolist()\n",
    "print(col_names)\n"
   ]
  },
  {
   "attachments": {},
   "cell_type": "markdown",
   "metadata": {},
   "source": [
    "¿Cual es la fecha de la primera y última venta?\n",
    "\n",
    "Puedes usar el método min() y max() de una columna de fecha en un DataFrame de Pandas para obtener la primera fecha y la última fecha de venta. Por ejemplo, si tienes un DataFrame llamado df y una columna llamada \"fecha_venta\", el siguiente código te dará la primera fecha de venta:"
   ]
  },
  {
   "cell_type": "code",
   "execution_count": 8,
   "metadata": {},
   "outputs": [
    {
     "name": "stdout",
     "output_type": "stream",
     "text": [
      "2022-05-23\n",
      "2022-12-31\n"
     ]
    }
   ],
   "source": [
    "first_sale_date = data['fecha_venta'].min()\n",
    "print(first_sale_date)\n",
    "\n",
    "last_sale_date = data['fecha_venta'].max()\n",
    "print(last_sale_date)"
   ]
  },
  {
   "attachments": {},
   "cell_type": "markdown",
   "metadata": {},
   "source": [
    "Ten en cuenta que la columna fecha_venta debe ser de tipo datetime para poder utilizar estos metodos.\n",
    "\n",
    "Es importante asegurarse que la columna fecha_venta esté en un formato de fecha válido y estandarizado para poder ser procesado, si no es el caso, se tendria que hacer un preprocesamiento previo para convertir el formato a uno valido."
   ]
  },
  {
   "attachments": {},
   "cell_type": "markdown",
   "metadata": {},
   "source": [
    "¿Cuál es el valor total de las ventas realizadas por cada mes?\n",
    "\n",
    "Puedes usar el método groupby() de un DataFrame de Pandas para agrupar las ventas por mes y luego utilizar el método sum() para obtener el valor total de las ventas para cada mes. Por ejemplo, si tienes un DataFrame llamado df con una columna llamada \"fecha_venta\" y una columna llamada \"valor_venta\", el siguiente código te dará el valor total de las ventas por mes:"
   ]
  },
  {
   "cell_type": "code",
   "execution_count": 11,
   "metadata": {},
   "outputs": [
    {
     "name": "stdout",
     "output_type": "stream",
     "text": [
      "month\n",
      "5      200000\n",
      "6     2869000\n",
      "7     2415000\n",
      "8     1977000\n",
      "9     2300000\n",
      "10    1999000\n",
      "11    2828000\n",
      "12    7344000\n",
      "Name: venta_final, dtype: int64\n"
     ]
    }
   ],
   "source": [
    "import pandas as pd\n",
    "data['fecha_venta'] = pd.to_datetime(data['fecha_venta'])\n",
    "data['month'] = data['fecha_venta'].dt.month\n",
    "sales_by_month = data.groupby(['month'])['venta_final'].sum()\n",
    "print(sales_by_month)\n"
   ]
  },
  {
   "attachments": {},
   "cell_type": "markdown",
   "metadata": {},
   "source": [
    "Se importa la libreria pandas\n",
    "Se convierte la columna fecha_venta a un objeto tipo datetime con pd.to_datetime()\n",
    "Se crea una nueva columna llamada month que contiene solo el numero del mes de la fecha de venta\n",
    "Se utiliza el metodo groupby() para agrupar las filas por el mes, y con el metodo sum() se suma el valor de las ventas para cada mes\n",
    "En este caso, te devolverá una serie con el índice siendo el numero del mes y el valor siendo el total de las ventas para ese mes.\n",
    "\n",
    "Es importante tener en cuenta que el codigo anterior supone que la columna fecha_venta esta en un formato de fecha valido, si no es el caso se debe de hacer un preprocesamiento previo para convertir el formato a uno valido."
   ]
  },
  {
   "attachments": {},
   "cell_type": "markdown",
   "metadata": {},
   "source": [
    "¿Cuál es el mes de mayor ventas y su valor?\n",
    "\n",
    "utilizar el método idxmax() o idxmin() para obtener el índice del mes con la mayor o menor venta, respectivamente, después de haber agrupado las ventas por mes y sumado el valor de ventas para cada mes.\n",
    "\n",
    "Por ejemplo, si ya has ejecutado el código que te di anteriormente para obtener el valor total de las ventas por mes en una serie llamada sales_by_month, el siguiente código te dará el mes con la mayor venta:"
   ]
  },
  {
   "cell_type": "code",
   "execution_count": 13,
   "metadata": {},
   "outputs": [
    {
     "name": "stdout",
     "output_type": "stream",
     "text": [
      "12\n",
      "Total de Ventas en el mes de mayor venta:  7344000\n"
     ]
    }
   ],
   "source": [
    "max_sales_month = sales_by_month.idxmax()\n",
    "print(max_sales_month)\n",
    "print(\"Total de Ventas en el mes de mayor venta: \", sales_by_month.loc[max_sales_month])"
   ]
  },
  {
   "attachments": {},
   "cell_type": "markdown",
   "metadata": {},
   "source": [
    "Puedes utilizar el método idxmax() o idxmin() para obtener el índice del mes con la mayor o menor venta, respectivamente, después de haber agrupado las ventas por mes y sumado el valor de ventas para cada mes.\n",
    "\n",
    "Por ejemplo, si ya has ejecutado el código que te di anteriormente para obtener el valor total de las ventas por mes en una serie llamada sales_by_month, el siguiente código te dará el mes con la mayor venta:"
   ]
  },
  {
   "attachments": {},
   "cell_type": "markdown",
   "metadata": {},
   "source": [
    "¿Cuál es el mes de menor ventas y su valor?"
   ]
  },
  {
   "cell_type": "code",
   "execution_count": 16,
   "metadata": {},
   "outputs": [
    {
     "name": "stdout",
     "output_type": "stream",
     "text": [
      "5\n",
      "Total de Ventas en el mes de menor venta:  200000\n"
     ]
    }
   ],
   "source": [
    "min_sales_month = sales_by_month.idxmin()\n",
    "print(min_sales_month)\n",
    "print(\"Total de Ventas en el mes de menor venta: \", sales_by_month.loc[min_sales_month])"
   ]
  },
  {
   "attachments": {},
   "cell_type": "markdown",
   "metadata": {},
   "source": [
    "¿Cual es el promedio de ventas por mes?\n",
    "\n",
    "Puedes utilizar el método mean() de una serie para obtener el promedio de las ventas de los 8 meses.\n",
    "Por ejemplo, si ya has ejecutado el código anterior para obtener el valor total de las ventas por mes en una serie llamada sales_by_month, el siguiente código te dará el promedio de las ventas para los 8 meses:"
   ]
  },
  {
   "cell_type": "code",
   "execution_count": 17,
   "metadata": {},
   "outputs": [
    {
     "name": "stdout",
     "output_type": "stream",
     "text": [
      "2741500.0\n"
     ]
    }
   ],
   "source": [
    "average_sales = sales_by_month.mean()\n",
    "print(average_sales)"
   ]
  },
  {
   "attachments": {},
   "cell_type": "markdown",
   "metadata": {},
   "source": [
    "El método mean() devuelve el valor promedio de los valores de la serie, en este caso el valor promedio de las ventas de los 8 meses.\n",
    "\n",
    "Ten en cuenta que si no se especifica un rango de meses en particular, este código te dará el promedio de todos los meses disponibles en tu DataFrame. Si necesitas calcular el promedio solo para los 8 meses específicos, debes seleccionar solo esos meses en el DataFrame antes de calcular el promedio.\n",
    "\n",
    "Para especificar los meses que deseas promediar, puedes utilizar el método .loc[] para seleccionar solo esos meses en tu serie de ventas por mes antes de calcular el promedio.\n",
    "\n",
    "Por ejemplo, si quieres calcular el promedio de las ventas solo para los meses de Enero, Febrero y Marzo, puedes usar el siguiente código:"
   ]
  },
  {
   "cell_type": "code",
   "execution_count": 18,
   "metadata": {},
   "outputs": [
    {
     "name": "stdout",
     "output_type": "stream",
     "text": [
      "3104571.4285714286\n"
     ]
    }
   ],
   "source": [
    "average_sales = sales_by_month.loc[[6, 7, 8, 9, 10, 11, 12]].mean()\n",
    "print(average_sales)"
   ]
  },
  {
   "attachments": {},
   "cell_type": "markdown",
   "metadata": {},
   "source": [
    "Redondear el valor\n",
    "\n",
    "el método round() para redondear el valor promedio resultante a un número específico de decimales. Por ejemplo, si ya has calculado el promedio de las ventas para los 8 meses y se guardo en una variable llamada average_sales, el siguiente código redondeará el valor promedio a 2 decimales:"
   ]
  },
  {
   "cell_type": "code",
   "execution_count": 19,
   "metadata": {},
   "outputs": [
    {
     "name": "stdout",
     "output_type": "stream",
     "text": [
      "3104571.43\n"
     ]
    }
   ],
   "source": [
    "rounded_average = round(average_sales, 2)\n",
    "print(rounded_average)"
   ]
  },
  {
   "cell_type": "code",
   "execution_count": null,
   "metadata": {},
   "outputs": [],
   "source": []
  }
 ],
 "metadata": {
  "kernelspec": {
   "display_name": "Diana",
   "language": "python",
   "name": "python3"
  },
  "language_info": {
   "codemirror_mode": {
    "name": "ipython",
    "version": 3
   },
   "file_extension": ".py",
   "mimetype": "text/x-python",
   "name": "python",
   "nbconvert_exporter": "python",
   "pygments_lexer": "ipython3",
   "version": "3.9.13"
  },
  "orig_nbformat": 4,
  "vscode": {
   "interpreter": {
    "hash": "836e5bd6a00544c0b00700b3ae05a36f68c5264f14948486da968e464bc4f9d3"
   }
  }
 },
 "nbformat": 4,
 "nbformat_minor": 2
}
